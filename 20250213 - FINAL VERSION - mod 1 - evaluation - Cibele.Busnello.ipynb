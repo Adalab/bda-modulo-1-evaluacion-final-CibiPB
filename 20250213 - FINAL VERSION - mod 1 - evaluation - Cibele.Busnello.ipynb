{
 "cells": [
  {
   "cell_type": "markdown",
   "metadata": {},
   "source": [
    "### **Project Details***\n",
    "\n",
    "**Creator**:        Cibele Busnello\n",
    "\n",
    "**Date**:           02.13.2025\n",
    "\n",
    "**Project name**:   Online Store System\n",
    "\n",
    "**Client**:         Promo49 - Adalab\n",
    "\n"
   ]
  },
  {
   "cell_type": "code",
   "execution_count": null,
   "metadata": {},
   "outputs": [],
   "source": [
    "class OnlineStore: \n",
    "\n",
    "    def __init__ (self):\n",
    "\n",
    "        self.inventory = []\n",
    "        self.total_sales = float(0)\n",
    "\n",
    "\n",
    "    def add_product (self, name, price, quantity):\n",
    "        # adding quantity or addind new product\n",
    "        \n",
    "        for product in self.inventory: #the flow goes to add new peoduct first, then compare with current list\n",
    "\n",
    "            if  product['Name'] == name: #comparing provided name with products in inventory\n",
    "                \n",
    "                product ['Quantity'] += quantity ##reference for update [{}]\n",
    "                product ['Price'] = price ## Added price update, since price is requested and could be divergent.\n",
    "                print(f\"Product '{name.title()}' is already listed and current stock has {product['Quantity']} units\")\n",
    "                return # So it closes the cicle and does not run to add a new product again\n",
    "            \n",
    "        \n",
    "        new_product = {'Name':name.title() , 'Price': price,'Quantity': quantity} # Adding new peoduct in case it is not present in the invenory yet.\n",
    "        self.inventory.append(new_product) # Title used to sustain format and prevent search issues.\n",
    "        print(f\"Product '{name}' added to the list and already available in stock\")\n",
    "        \n",
    "\n",
    "    def inventory_check (self): \n",
    "\n",
    "        if not self.inventory: # Running a confirmation in case it is empty\n",
    "            print('Empty inventory')\n",
    "            return \n",
    "        \n",
    "        for product in self.inventory:\n",
    "            print (f\"Name: {product['Name']}, Price: {product['Price']}, Quantity: {product['Quantity']}\")\n",
    "        return\n",
    "    \n",
    "\n",
    "    def product_search (self, name):\n",
    "        \n",
    "            for product in self.inventory:\n",
    "            \n",
    "                if product['Name'] == name.title():\n",
    "                    print (f\"Name: {product['Name']}, Price: {product['Price']}, Quantity: {product['Quantity']}\")\n",
    "                    return\n",
    "             \n",
    "            print(name,' is not listed.')\n",
    "\n",
    "\n",
    "    def update_stock (self, name, quantity):\n",
    "\n",
    "        for product in self.inventory:\n",
    "                if product['Name'] == name.title():\n",
    "                    product['Quantity']=quantity\n",
    "                    print(f\"Name: {product['Name']}, quantity updated to: {product['Quantity']}\")\n",
    "                    return\n",
    "\n",
    "        print(f'Name: {name.title()} is not in your product list.')\n",
    "    \n",
    "\n",
    "    def remove_product (self, name):\n",
    "\n",
    "        for product in self.inventory:\n",
    "\n",
    "            if product['Name'] == name.title():\n",
    "                self.inventory.remove(product)\n",
    "                return print(f'The product {name} has been removed')\n",
    "            \n",
    "        print(name.title(),'is not in the list.')\n",
    "\n",
    "    \n",
    "    def calculate_inventary_value (self):\n",
    "       \n",
    "        total_value = 0\n",
    "        \n",
    "        for product in self.inventory:\n",
    "            \n",
    "            value = (product['Quantity'] * product['Price']) # Sum individual product type value\n",
    "            total_value +=value # Add to the list to have total amount between all products.\n",
    "            return print(f'The current inventary value is ${round(total_value,2)}')\n",
    "            \n",
    "            \n"
   ]
  },
  {
   "cell_type": "code",
   "execution_count": null,
   "metadata": {},
   "outputs": [],
   "source": [
    "Store = OnlineStore ()\n"
   ]
  },
  {
   "cell_type": "markdown",
   "metadata": {},
   "source": [
    "## Testing Area\n",
    "\n",
    "### 1- Method: add_product"
   ]
  },
  {
   "cell_type": "code",
   "execution_count": null,
   "metadata": {},
   "outputs": [],
   "source": [
    "Store.add_product('Doll 1', 12.45, 30)\n",
    "Store.add_product('Doll 1', 34.80, 10)\n",
    "Store.add_product('Doll 2', 4.99, 12)\n",
    "Store.add_product('stuffed toy 1', 8, 116)\n",
    "\n",
    "print('-------')\n",
    "\n",
    "Store.inventory"
   ]
  },
  {
   "cell_type": "markdown",
   "metadata": {},
   "source": [
    "### 2- Method: inventory_check"
   ]
  },
  {
   "cell_type": "code",
   "execution_count": null,
   "metadata": {},
   "outputs": [],
   "source": [
    "Store.inventory_check()"
   ]
  },
  {
   "cell_type": "code",
   "execution_count": null,
   "metadata": {},
   "outputs": [],
   "source": [
    "Store.inventory"
   ]
  },
  {
   "cell_type": "markdown",
   "metadata": {},
   "source": [
    "### 3- Method: product_search"
   ]
  },
  {
   "cell_type": "code",
   "execution_count": null,
   "metadata": {},
   "outputs": [],
   "source": [
    "Store.product_search('Doll 3')\n",
    "Store.product_search('doll 1')"
   ]
  },
  {
   "cell_type": "markdown",
   "metadata": {},
   "source": [
    "### 4- Method: update_stock"
   ]
  },
  {
   "cell_type": "code",
   "execution_count": null,
   "metadata": {},
   "outputs": [],
   "source": [
    "Store.update_stock('Doll 2', 16)\n",
    "Store.update_stock('Doll 3', 15)\n",
    "Store.update_stock('Stuffed toy 1', 5)\n"
   ]
  },
  {
   "cell_type": "markdown",
   "metadata": {},
   "source": [
    "### 5 - Method: remove_product"
   ]
  },
  {
   "cell_type": "code",
   "execution_count": null,
   "metadata": {},
   "outputs": [],
   "source": [
    "Store.remove_product('doll 2')\n",
    "Store.remove_product('Doll 3')"
   ]
  },
  {
   "cell_type": "markdown",
   "metadata": {},
   "source": [
    "### 6- Method: calculate_inventary_value"
   ]
  },
  {
   "cell_type": "code",
   "execution_count": null,
   "metadata": {},
   "outputs": [],
   "source": [
    "Store.calculate_inventary_value()\n",
    "print('-----')\n",
    "\n",
    "Store.inventory # for verification"
   ]
  }
 ],
 "metadata": {
  "kernelspec": {
   "display_name": "base",
   "language": "python",
   "name": "python3"
  },
  "language_info": {
   "codemirror_mode": {
    "name": "ipython",
    "version": 3
   },
   "file_extension": ".py",
   "mimetype": "text/x-python",
   "name": "python",
   "nbconvert_exporter": "python",
   "pygments_lexer": "ipython3",
   "version": "3.12.7"
  }
 },
 "nbformat": 4,
 "nbformat_minor": 2
}
